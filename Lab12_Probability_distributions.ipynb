{
 "cells": [
  {
   "cell_type": "markdown",
   "metadata": {},
   "source": [
    "# A4 - Probability distributions\n",
    "Probability and Statistics<br>\n",
    "[Helsinki Metropolia University of Applied Sciences](https://www.metropolia.fi/en)\n"
   ]
  },
  {
   "cell_type": "code",
   "execution_count": 1,
   "metadata": {},
   "outputs": [],
   "source": [
    "# Import libraries\n",
    "import numpy as np\n",
    "import matplotlib.pyplot as plt\n",
    "import seaborn as sns\n",
    "import pandas as pd\n",
    "import numpy.random as rng"
   ]
  },
  {
   "cell_type": "markdown",
   "metadata": {},
   "source": [
    "# Problem 1. Birth weight\n",
    "\n",
    "In this first problem we study babies' birth weight data, which has used for [a machine learning competition at Kaggle](https://www.kaggle.com/competitions/birth-weight-prediction/data). Your aim is to analyse the data and compare it against the normal distribution.\n",
    "\n",
    "## 1.1. Descriptive analysis of the dataset\n",
    "\n",
    "- Read in the dataset using pandas read_csv function. Remember to store the dataset into same folder where this Notebook is.\n",
    "- Select the `BWEIGHT` for more detailed analysis.\n",
    "- Create a histogram of the birth weight data.\n",
    "- Calculate also the descriptive statistics."
   ]
  },
  {
   "cell_type": "code",
   "execution_count": 2,
   "metadata": {},
   "outputs": [
    {
     "data": {
      "text/plain": [
       "count    101400.000000\n",
       "mean          7.258066\n",
       "std           1.329461\n",
       "min           0.187500\n",
       "25%           6.625000\n",
       "50%           7.375000\n",
       "75%           8.062500\n",
       "max          13.062500\n",
       "Name: BWEIGHT, dtype: float64"
      ]
     },
     "execution_count": 2,
     "metadata": {},
     "output_type": "execute_result"
    }
   ],
   "source": [
    "# Your code\n",
    "data = pd.read_csv('baby-weights-dataset.csv')\n",
    "bweight = data['BWEIGHT']\n",
    "bweight.describe()"
   ]
  },
  {
   "cell_type": "code",
   "execution_count": 3,
   "metadata": {},
   "outputs": [
    {
     "data": {
      "text/plain": [
       "(array([8.3000e+01, 2.7100e+02, 3.1400e+02, 4.0200e+02, 5.3900e+02,\n",
       "        7.7600e+02, 1.6370e+03, 2.7960e+03, 5.9980e+03, 1.2415e+04,\n",
       "        2.2638e+04, 2.2733e+04, 1.6686e+04, 9.4560e+03, 3.2170e+03,\n",
       "        1.0380e+03, 3.0000e+02, 7.1000e+01, 2.3000e+01, 7.0000e+00]),\n",
       " array([ 0.1875 ,  0.83125,  1.475  ,  2.11875,  2.7625 ,  3.40625,\n",
       "         4.05   ,  4.69375,  5.3375 ,  5.98125,  6.625  ,  7.26875,\n",
       "         7.9125 ,  8.55625,  9.2    ,  9.84375, 10.4875 , 11.13125,\n",
       "        11.775  , 12.41875, 13.0625 ]),\n",
       " <BarContainer object of 20 artists>)"
      ]
     },
     "execution_count": 3,
     "metadata": {},
     "output_type": "execute_result"
    },
    {
     "data": {
      "image/png": "[encoded data removed]",
      "text/plain": [
       "<Figure size 432x288 with 1 Axes>"
      ]
     },
     "metadata": {
      "needs_background": "light"
     },
     "output_type": "display_data"
    }
   ],
   "source": [
    "# Your code\n",
    "plt.hist(bweight, bins = 20, edgecolor = 'black')"
   ]
  },
  {
   "cell_type": "markdown",
   "metadata": {},
   "source": [
    "**Questions**\n",
    "\n",
    "- a) How many babies there were in this dataset?\n",
    "- b) What was the average ($\\mu$) of the birth weight?\n",
    "- c) What was the standard deviation ($\\sigma$) of the birth weight?\n",
    "- d) What were the minimum and maximum values for the birth weight?\n",
    "- e) What do you think are the units for the birth weight? Explain."
   ]
  },
  {
   "cell_type": "markdown",
   "metadata": {},
   "source": [
    "**Answers**\n",
    "\n",
    "- a) Number of babies: 101400\n",
    "- b) 𝜇 = 7.258066\n",
    "- c) 𝜎 = 1.329461\n",
    "- d) Min: 0.187500 Max: 13.062500\n",
    "- e) The unit of baby weight is in lbs. The information is from dataset description."
   ]
  },
  {
   "cell_type": "markdown",
   "metadata": {},
   "source": [
    "## 1.2. Calculations"
   ]
  },
  {
   "cell_type": "markdown",
   "metadata": {},
   "source": [
    "Using the birth weight data, calculate:\n",
    "- f) What is the probability that the birth weight is less than 4?\n",
    "- g) What is the probability that the birth weight is more than 10?\n",
    "- h) What is the probability that the birth weight is between $\\mu - 2\\sigma$ and $\\mu + 2\\sigma$?"
   ]
  },
  {
   "cell_type": "code",
   "execution_count": 4,
   "metadata": {},
   "outputs": [
    {
     "name": "stdout",
     "output_type": "stream",
     "text": [
      "0.022593688362919133\n",
      "0.0097534516765286\n",
      "0.9517948717948718\n"
     ]
    }
   ],
   "source": [
    "# Your code\n",
    "print(np.sum(bweight < 4) / 101400)\n",
    "print(np.sum(bweight > 10) / 101400)\n",
    "mean_minus = 7.258066 - 2 * 1.329461\n",
    "mean_plus =  7.258066 + 2 * 1.329461\n",
    "print(np.sum(np.logical_and(bweight> mean_minus, bweight < mean_plus)) / 101400)"
   ]
  },
  {
   "cell_type": "markdown",
   "metadata": {},
   "source": [
    "**Answers**\n",
    "- f) Probability that the birth weight is less than 4: 0.0226\n",
    "- g) Probability that the birth weight is more than 10: 0.0098\n",
    "- h) Probability that the birth weight is between  𝜇−2𝜎 and 𝜇+2𝜎: 0.9518"
   ]
  },
  {
   "cell_type": "markdown",
   "metadata": {},
   "source": [
    "## 1.3. Generate random numbers based on statistics\n",
    "\n",
    "Based on the descriptive statistics generate random numbers from normal distribution. Use the same mean, standard deviation, and size (=count) as calculated from the data.\n",
    "\n",
    "Calculate the descriptive statistics for the generated data. Make also a histogram.\n",
    "\n",
    "- i) Compare the generated random number results to the original. What do you observe? Similarities? Differences?\n",
    "- k) How would you describe the distribution of the birth weight?\n"
   ]
  },
  {
   "cell_type": "code",
   "execution_count": 5,
   "metadata": {},
   "outputs": [
    {
     "data": {
      "text/plain": [
       "(array([0.0000e+00, 0.0000e+00, 7.0000e+00, 5.7000e+01, 2.2400e+02,\n",
       "        9.0000e+02, 2.8610e+03, 6.7740e+03, 1.2490e+04, 1.8314e+04,\n",
       "        2.0490e+04, 1.7677e+04, 1.1795e+04, 6.2890e+03, 2.5040e+03,\n",
       "        7.8600e+02, 1.8700e+02, 3.6000e+01, 9.0000e+00]),\n",
       " array([ 0.1875    ,  0.86513158,  1.54276316,  2.22039474,  2.89802632,\n",
       "         3.57565789,  4.25328947,  4.93092105,  5.60855263,  6.28618421,\n",
       "         6.96381579,  7.64144737,  8.31907895,  8.99671053,  9.67434211,\n",
       "        10.35197368, 11.02960526, 11.70723684, 12.38486842, 13.0625    ]),\n",
       " <BarContainer object of 19 artists>)"
      ]
     },
     "execution_count": 5,
     "metadata": {},
     "output_type": "execute_result"
    },
    {
     "data": {
      "image/png": "[encoded data removed]",
      "text/plain": [
       "<Figure size 432x288 with 1 Axes>"
      ]
     },
     "metadata": {
      "needs_background": "light"
     },
     "output_type": "display_data"
    }
   ],
   "source": [
    "mean = 7.258066\n",
    "std = 1.329461\n",
    "count = 101400\n",
    "x = rng.normal(mean, std, count)\n",
    "plt.hist(x, bins = np.linspace(0.187500, 13.062500, 20), edgecolor = 'black')"
   ]
  },
  {
   "cell_type": "markdown",
   "metadata": {},
   "source": [
    "**Answer:**\n",
    "\n",
    "- i) There are differences reagarding how the weight is distributed.\n",
    "- k) Closer looking to the normal distribution."
   ]
  },
  {
   "cell_type": "markdown",
   "metadata": {
    "tags": []
   },
   "source": [
    "---\n",
    "# Problem 2. Arrival times\n",
    "\n",
    "The aim of this problem is to learn to use [exponential distribution](https://docs.scipy.org/doc/scipy/reference/generated/scipy.stats.expon.html). We use the values given in YouTube video **[Example distribution](https://www.youtube.com/watch?v=4PEX-SuftjQ)**.\n",
    "\n",
    "**Coding**\n",
    "- Create an array of 2 000 [exponentially distributed](https://en.wikipedia.org/wiki/Exponential_distribution) random numbers having the parameter value $\\lambda$ given in the Youtube video.\n",
    "- Draw a histogram of the values. (Remember to tune the bin settings properly).\n",
    "- Draw also a boxplot of the values.\n",
    "- Calculate the descriptive statistics for the data.\n",
    "- Calculate the probability that the data value is between 2 and 4.\n"
   ]
  },
  {
   "cell_type": "code",
   "execution_count": 6,
   "metadata": {},
   "outputs": [
    {
     "data": {
      "text/plain": [
       "(array([794., 497., 289., 167.,  98.,  61.,  34.,  22.,  16.,   9.,   6.,\n",
       "          4.,   1.,   1.,   0.,   1.,   0.,   0.,   0.]),\n",
       " array([ 0.        ,  1.05263158,  2.10526316,  3.15789474,  4.21052632,\n",
       "         5.26315789,  6.31578947,  7.36842105,  8.42105263,  9.47368421,\n",
       "        10.52631579, 11.57894737, 12.63157895, 13.68421053, 14.73684211,\n",
       "        15.78947368, 16.84210526, 17.89473684, 18.94736842, 20.        ]),\n",
       " <BarContainer object of 19 artists>)"
      ]
     },
     "execution_count": 6,
     "metadata": {},
     "output_type": "execute_result"
    },
    {
     "data": {
      "image/png": "[encoded data removed]",
      "text/plain": [
       "<Figure size 432x288 with 1 Axes>"
      ]
     },
     "metadata": {
      "needs_background": "light"
     },
     "output_type": "display_data"
    }
   ],
   "source": [
    "# Your code\n",
    "lam = 1/2\n",
    "scale = 1 / lam\n",
    "x = rng.exponential(scale, 2000)\n",
    "plt.hist(x, bins = np.linspace(0, 20, 20), edgecolor = 'black')"
   ]
  },
  {
   "cell_type": "code",
   "execution_count": 7,
   "metadata": {},
   "outputs": [
    {
     "data": {
      "text/plain": [
       "{'whiskers': [<matplotlib.lines.Line2D at 0x184002cc6a0>,\n",
       "  <matplotlib.lines.Line2D at 0x184002cc970>],\n",
       " 'caps': [<matplotlib.lines.Line2D at 0x184002ccd00>,\n",
       "  <matplotlib.lines.Line2D at 0x184002ccf10>],\n",
       " 'boxes': [<matplotlib.lines.Line2D at 0x184002cc3d0>],\n",
       " 'medians': [<matplotlib.lines.Line2D at 0x184002dc220>],\n",
       " 'fliers': [<matplotlib.lines.Line2D at 0x184002dc520>],\n",
       " 'means': []}"
      ]
     },
     "execution_count": 7,
     "metadata": {},
     "output_type": "execute_result"
    },
    {
     "data": {
      "image/png": "[encoded data removed]",
      "text/plain": [
       "<Figure size 432x288 with 1 Axes>"
      ]
     },
     "metadata": {
      "needs_background": "light"
     },
     "output_type": "display_data"
    }
   ],
   "source": [
    "# Your code\n",
    "plt.boxplot(x, vert = False)"
   ]
  },
  {
   "cell_type": "code",
   "execution_count": 8,
   "metadata": {},
   "outputs": [
    {
     "name": "stdout",
     "output_type": "stream",
     "text": [
      "count    2000.000000\n",
      "mean        2.049552\n",
      "std         2.060299\n",
      "min         0.000049\n",
      "25%         0.583763\n",
      "50%         1.441632\n",
      "75%         2.828069\n",
      "max        15.907665\n",
      "dtype: float64\n",
      "2.198822\n"
     ]
    }
   ],
   "source": [
    "# Your code\n",
    "description = pd.Series(x).describe()\n",
    "print(description)\n",
    "print(2.804744 - 0.605922)"
   ]
  },
  {
   "cell_type": "code",
   "execution_count": 9,
   "metadata": {},
   "outputs": [
    {
     "name": "stdout",
     "output_type": "stream",
     "text": [
      "0.2355\n",
      "1.4416320956169935\n"
     ]
    }
   ],
   "source": [
    "# Your code\n",
    "print(np.sum(np.logical_and(x> 2, x < 4)) / 2000)\n",
    "print(np.median(x))"
   ]
  },
  {
   "cell_type": "markdown",
   "metadata": {},
   "source": [
    "**Questions:**\n",
    "- a) What is the value for $\\lambda$?\n",
    "- b) What does the variable x present (in video)?\n",
    "- c) What is the median value calculated from the array? How much does it differ from the analytical (calculated with paper and pen) value given in video?\n",
    "- d) What is the [interquartile range](https://en.wikipedia.org/wiki/Interquartile_range) for this data?\n",
    "- e) How much do the analytical probability $P(2 < x < 4)$ (see again the video) and the probability calculated from the array differ? Explain why."
   ]
  },
  {
   "cell_type": "markdown",
   "metadata": {},
   "source": [
    "**Answers:**\n",
    "\n",
    "- a) Value of 𝜆 = 1/2\n",
    "- b) x presents time.\n",
    "- c) Our median of 1.3644, the median of the video is 1.386, difference: 0.0216.\n",
    "- d) Interquantile range: 2.804744 (= 75%) - 0.605922 (= 25%) = 2.198822\n",
    "- e) 𝑃(2<𝑥<4): video = 0.2325, our = 0.231, so the difference is 0.0015. The video uses for time continuous value and we are using random generated, discrete value."
   ]
  },
  {
   "cell_type": "markdown",
   "metadata": {
    "tags": []
   },
   "source": [
    "---\n",
    "# Problem 3. Comparing distributions\n",
    "\n",
    "In this last problem we compare [Poisson distribution](https://en.wikipedia.org/wiki/Poisson_distribution) to [normal distribution](https://en.wikipedia.org/wiki/Normal_distribution).\n",
    "\n",
    "**Coding:**\n",
    "\n",
    "- Generate 10,000 random numbers from the *Poisson distribution* having mean value of 50.\n",
    "- Calculate the descriptive statistics for the generated dataset.\n",
    "- Then, generate another 10,000 random numbers from the *normal distribution* having the same mean and standard deviation as for the Poisson distribution.\n",
    "- Calculate also the descriptive statistics for this second dataset.\n",
    "- Draw histograms for both generated dataset (Poisson and normal distributions). Use same bins settings for both histograms."
   ]
  },
  {
   "cell_type": "code",
   "execution_count": 10,
   "metadata": {},
   "outputs": [
    {
     "data": {
      "text/plain": [
       "(array([0.000e+00, 0.000e+00, 0.000e+00, 0.000e+00, 0.000e+00, 0.000e+00,\n",
       "        0.000e+00, 0.000e+00, 1.000e+00, 4.000e+00, 1.800e+01, 3.700e+01,\n",
       "        8.300e+01, 1.730e+02, 2.820e+02, 4.580e+02, 6.480e+02, 8.710e+02,\n",
       "        1.013e+03, 1.167e+03, 1.176e+03, 1.014e+03, 8.850e+02, 7.170e+02,\n",
       "        5.340e+02, 3.420e+02, 2.550e+02, 1.470e+02, 8.300e+01, 5.100e+01,\n",
       "        2.200e+01, 1.100e+01, 4.000e+00, 1.000e+00, 3.000e+00, 0.000e+00,\n",
       "        0.000e+00, 0.000e+00, 0.000e+00, 0.000e+00, 0.000e+00, 0.000e+00,\n",
       "        0.000e+00, 0.000e+00]),\n",
       " array([10, 12, 14, 16, 18, 20, 22, 24, 26, 28, 30, 32, 34, 36, 38, 40, 42,\n",
       "        44, 46, 48, 50, 52, 54, 56, 58, 60, 62, 64, 66, 68, 70, 72, 74, 76,\n",
       "        78, 80, 82, 84, 86, 88, 90, 92, 94, 96, 98]),\n",
       " <BarContainer object of 44 artists>)"
      ]
     },
     "execution_count": 10,
     "metadata": {},
     "output_type": "execute_result"
    },
    {
     "data": {
      "image/png": "[encoded data removed]",
      "text/plain": [
       "<Figure size 432x288 with 1 Axes>"
      ]
     },
     "metadata": {
      "needs_background": "light"
     },
     "output_type": "display_data"
    }
   ],
   "source": [
    "# Your code\n",
    "rand_size = 10000\n",
    "pois_mean = 50\n",
    "p_x = rng.poisson(pois_mean, rand_size)\n",
    "plt.hist(p_x, bins = np.arange(10, 100, 2), edgecolor = 'black')"
   ]
  },
  {
   "cell_type": "code",
   "execution_count": 11,
   "metadata": {},
   "outputs": [
    {
     "name": "stdout",
     "output_type": "stream",
     "text": [
      "count    10000.000000\n",
      "mean        50.114000\n",
      "std          6.982555\n",
      "min         27.000000\n",
      "25%         45.000000\n",
      "50%         50.000000\n",
      "75%         55.000000\n",
      "max         78.000000\n",
      "dtype: float64\n"
     ]
    }
   ],
   "source": [
    "# Your code\n",
    "descr_p_x = pd.Series(p_x).describe()\n",
    "print(descr_p_x)"
   ]
  },
  {
   "cell_type": "code",
   "execution_count": 12,
   "metadata": {},
   "outputs": [
    {
     "data": {
      "text/plain": [
       "(array([   0.,    0.,    0.,    0.,    0.,    2.,    3.,   13.,   18.,\n",
       "          54.,  104.,  222.,  365.,  592.,  835., 1134., 1204., 1280.,\n",
       "        1216., 1014.,  745.,  549.,  317.,  176.,   93.,   44.,   16.,\n",
       "           4.,    0.,    0.,    0.,    0.,    0.,    0.,    0.,    0.,\n",
       "           0.,    0.,    0.]),\n",
       " array([ 10.        ,  12.30769231,  14.61538462,  16.92307692,\n",
       "         19.23076923,  21.53846154,  23.84615385,  26.15384615,\n",
       "         28.46153846,  30.76923077,  33.07692308,  35.38461538,\n",
       "         37.69230769,  40.        ,  42.30769231,  44.61538462,\n",
       "         46.92307692,  49.23076923,  51.53846154,  53.84615385,\n",
       "         56.15384615,  58.46153846,  60.76923077,  63.07692308,\n",
       "         65.38461538,  67.69230769,  70.        ,  72.30769231,\n",
       "         74.61538462,  76.92307692,  79.23076923,  81.53846154,\n",
       "         83.84615385,  86.15384615,  88.46153846,  90.76923077,\n",
       "         93.07692308,  95.38461538,  97.69230769, 100.        ]),\n",
       " <BarContainer object of 39 artists>)"
      ]
     },
     "execution_count": 12,
     "metadata": {},
     "output_type": "execute_result"
    },
    {
     "data": {
      "image/png": "[encoded data removed]",
      "text/plain": [
       "<Figure size 432x288 with 1 Axes>"
      ]
     },
     "metadata": {
      "needs_background": "light"
     },
     "output_type": "display_data"
    }
   ],
   "source": [
    "# Your code\n",
    "n_x = rng.normal(pois_mean, 7.062295, rand_size)\n",
    "plt.hist(n_x, bins = np.linspace(10, 100, 40), edgecolor = 'black')"
   ]
  },
  {
   "cell_type": "code",
   "execution_count": 13,
   "metadata": {},
   "outputs": [
    {
     "name": "stdout",
     "output_type": "stream",
     "text": [
      "count    10000.000000\n",
      "mean        50.043676\n",
      "std          7.111520\n",
      "min         23.710745\n",
      "25%         45.282235\n",
      "50%         50.102251\n",
      "75%         54.810637\n",
      "max         74.351275\n",
      "dtype: float64\n"
     ]
    }
   ],
   "source": [
    "descr_n_x = pd.Series(n_x).describe()\n",
    "print(descr_n_x)"
   ]
  },
  {
   "cell_type": "markdown",
   "metadata": {},
   "source": [
    "**Question**\n",
    "\n",
    "- By comparing the descriptive statistics and histograms, explain the similarities and differences between Poisson and normal distribution."
   ]
  },
  {
   "cell_type": "markdown",
   "metadata": {},
   "source": [
    "**Answer**\n",
    "\n",
    "The two distribution is quite similar, because we used a high sample number. The larger the sample number it is, the closer looking the two distributions look like."
   ]
  }
 ],
 "metadata": {
  "kernelspec": {
   "display_name": "Python 3 (ipykernel)",
   "language": "python",
   "name": "python3"
  },
  "language_info": {
   "codemirror_mode": {
    "name": "ipython",
    "version": 3
   },
   "file_extension": ".py",
   "mimetype": "text/x-python",
   "name": "python",
   "nbconvert_exporter": "python",
   "pygments_lexer": "ipython3",
   "version": "3.9.12"
  }
 },
 "nbformat": 4,
 "nbformat_minor": 4
}
