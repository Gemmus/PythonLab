{
 "cells": [
  {
   "cell_type": "markdown",
   "metadata": {},
   "source": [
    "# A2 - Descriptive statistics\n",
    "Probability and Statistics<br>\n",
    "[Helsinki Metropolia University of Applied Sciences](https://www.metropolia.fi/en)"
   ]
  },
  {
   "cell_type": "markdown",
   "metadata": {},
   "source": [
    "## Setup"
   ]
  },
  {
   "cell_type": "code",
   "execution_count": 1,
   "metadata": {},
   "outputs": [],
   "source": [
    "# Import libraries\n",
    "import numpy as np\n",
    "import matplotlib.pyplot as plt\n",
    "import pandas as pd"
   ]
  },
  {
   "cell_type": "markdown",
   "metadata": {},
   "source": [
    "The following dataset contains heart disease related data. The variables are:\n",
    "- age - patient's age (years)\n",
    "- sex - patient's sex (1 = Male, 0 = Female)\n",
    "- rest_blood_pressure - systolic blood pressure at rest (mmHg)\n",
    "- serum_cholesterol - cholesterol level in blood serum (mg/dl)\n",
    "- max_heart_rate - maximum heart rate at exerices (bpm = beat per minute)\n",
    "- exercise_angina - chest pain (angina) at exerices (1 = Yes, 0 = No)\n",
    "- heart_disease - classification of heart disease (0 = healthy, 1,2,3,4 = Heart disease)\n",
    "\n",
    "More information about the dataset can be read here: [Heart disease dataset](https://archive.ics.uci.edu/dataset/45/heart+disease)."
   ]
  },
  {
   "cell_type": "code",
   "execution_count": 2,
   "metadata": {},
   "outputs": [
    {
     "data": {
      "text/html": [
       "<div>\n",
       "<style scoped>\n",
       "    .dataframe tbody tr th:only-of-type {\n",
       "        vertical-align: middle;\n",
       "    }\n",
       "\n",
       "    .dataframe tbody tr th {\n",
       "        vertical-align: top;\n",
       "    }\n",
       "\n",
       "    .dataframe thead th {\n",
       "        text-align: right;\n",
       "    }\n",
       "</style>\n",
       "<table border=\"1\" class=\"dataframe\">\n",
       "  <thead>\n",
       "    <tr style=\"text-align: right;\">\n",
       "      <th></th>\n",
       "      <th>age</th>\n",
       "      <th>sex</th>\n",
       "      <th>resting_blood_pressure</th>\n",
       "      <th>serum_cholesterol</th>\n",
       "      <th>max_heart_rate</th>\n",
       "      <th>exercise_angina</th>\n",
       "      <th>heart_disease</th>\n",
       "    </tr>\n",
       "  </thead>\n",
       "  <tbody>\n",
       "    <tr>\n",
       "      <th>count</th>\n",
       "      <td>303.000000</td>\n",
       "      <td>303.000000</td>\n",
       "      <td>303.000000</td>\n",
       "      <td>303.000000</td>\n",
       "      <td>303.000000</td>\n",
       "      <td>303.000000</td>\n",
       "      <td>303.000000</td>\n",
       "    </tr>\n",
       "    <tr>\n",
       "      <th>mean</th>\n",
       "      <td>54.438944</td>\n",
       "      <td>0.679868</td>\n",
       "      <td>131.689769</td>\n",
       "      <td>246.693069</td>\n",
       "      <td>149.607261</td>\n",
       "      <td>0.326733</td>\n",
       "      <td>0.937294</td>\n",
       "    </tr>\n",
       "    <tr>\n",
       "      <th>std</th>\n",
       "      <td>9.038662</td>\n",
       "      <td>0.467299</td>\n",
       "      <td>17.599748</td>\n",
       "      <td>51.776918</td>\n",
       "      <td>22.875003</td>\n",
       "      <td>0.469794</td>\n",
       "      <td>1.228536</td>\n",
       "    </tr>\n",
       "    <tr>\n",
       "      <th>min</th>\n",
       "      <td>29.000000</td>\n",
       "      <td>0.000000</td>\n",
       "      <td>94.000000</td>\n",
       "      <td>126.000000</td>\n",
       "      <td>71.000000</td>\n",
       "      <td>0.000000</td>\n",
       "      <td>0.000000</td>\n",
       "    </tr>\n",
       "    <tr>\n",
       "      <th>25%</th>\n",
       "      <td>48.000000</td>\n",
       "      <td>0.000000</td>\n",
       "      <td>120.000000</td>\n",
       "      <td>211.000000</td>\n",
       "      <td>133.500000</td>\n",
       "      <td>0.000000</td>\n",
       "      <td>0.000000</td>\n",
       "    </tr>\n",
       "    <tr>\n",
       "      <th>50%</th>\n",
       "      <td>56.000000</td>\n",
       "      <td>1.000000</td>\n",
       "      <td>130.000000</td>\n",
       "      <td>241.000000</td>\n",
       "      <td>153.000000</td>\n",
       "      <td>0.000000</td>\n",
       "      <td>0.000000</td>\n",
       "    </tr>\n",
       "    <tr>\n",
       "      <th>75%</th>\n",
       "      <td>61.000000</td>\n",
       "      <td>1.000000</td>\n",
       "      <td>140.000000</td>\n",
       "      <td>275.000000</td>\n",
       "      <td>166.000000</td>\n",
       "      <td>1.000000</td>\n",
       "      <td>2.000000</td>\n",
       "    </tr>\n",
       "    <tr>\n",
       "      <th>max</th>\n",
       "      <td>77.000000</td>\n",
       "      <td>1.000000</td>\n",
       "      <td>200.000000</td>\n",
       "      <td>564.000000</td>\n",
       "      <td>202.000000</td>\n",
       "      <td>1.000000</td>\n",
       "      <td>4.000000</td>\n",
       "    </tr>\n",
       "  </tbody>\n",
       "</table>\n",
       "</div>"
      ],
      "text/plain": [
       "              age         sex  resting_blood_pressure  serum_cholesterol  \\\n",
       "count  303.000000  303.000000              303.000000         303.000000   \n",
       "mean    54.438944    0.679868              131.689769         246.693069   \n",
       "std      9.038662    0.467299               17.599748          51.776918   \n",
       "min     29.000000    0.000000               94.000000         126.000000   \n",
       "25%     48.000000    0.000000              120.000000         211.000000   \n",
       "50%     56.000000    1.000000              130.000000         241.000000   \n",
       "75%     61.000000    1.000000              140.000000         275.000000   \n",
       "max     77.000000    1.000000              200.000000         564.000000   \n",
       "\n",
       "       max_heart_rate  exercise_angina  heart_disease  \n",
       "count      303.000000       303.000000     303.000000  \n",
       "mean       149.607261         0.326733       0.937294  \n",
       "std         22.875003         0.469794       1.228536  \n",
       "min         71.000000         0.000000       0.000000  \n",
       "25%        133.500000         0.000000       0.000000  \n",
       "50%        153.000000         0.000000       0.000000  \n",
       "75%        166.000000         1.000000       2.000000  \n",
       "max        202.000000         1.000000       4.000000  "
      ]
     },
     "execution_count": 2,
     "metadata": {},
     "output_type": "execute_result"
    }
   ],
   "source": [
    "# Read the example data\n",
    "file = \"a2_data.csv\"\n",
    "data = pd.read_csv(file)\n",
    "data.describe()"
   ]
  },
  {
   "cell_type": "markdown",
   "metadata": {},
   "source": [
    "## Problem 1\n",
    "\n",
    "By coding and interpreting the results find the answers to the following questions. Give the answers with two decimal accuracy.\n",
    "\n",
    "a) How many patients were in this dataset?<br>\n",
    "b) What was the average and the standard deviation of age?<br>\n",
    "c) How many men and women were there?<br>\n",
    "d) What was the range of the maximum heart rate?<br>\n",
    "e) What where the minimum and maximum of the serum cholesterol values?"
   ]
  },
  {
   "cell_type": "code",
   "execution_count": 3,
   "metadata": {},
   "outputs": [
    {
     "name": "stdout",
     "output_type": "stream",
     "text": [
      "Male: 206\n",
      "Female: 97\n",
      "Female using sex.count() - male: 97\n",
      "\n",
      "Max - min: 131.0\n",
      "Range with ptp method: 131.0\n",
      "\n",
      "Min of serum cholesterol: 126.0\n",
      "Max of serum cholesterol: 564.0\n"
     ]
    }
   ],
   "source": [
    "# c\n",
    "sex = data['sex'] # male = 1, female = 0\n",
    "male = (sex == 1).sum()\n",
    "print(f\"Male: {male}\")\n",
    "female = (sex == 0).sum()\n",
    "print(f\"Female: {female}\")\n",
    "print(f\"Female using sex.count() - male: {sex.count() - male}\\n\")\n",
    "\n",
    "# d\n",
    "max_heart_rate = data['max_heart_rate']\n",
    "min_mhr = max_heart_rate.min()\n",
    "max_mhr = max_heart_rate.max()\n",
    "print(f\"Max - min: {max_mhr - min_mhr}\")\n",
    "# or\n",
    "ptp_method = np.ptp(max_heart_rate)\n",
    "print(f\"Range with ptp method: {ptp_method}\\n\")\n",
    "\n",
    "# e\n",
    "serum_cholesterol = data['serum_cholesterol']\n",
    "print(f\"Min of serum cholesterol: {serum_cholesterol.min()}\")\n",
    "print(f\"Max of serum cholesterol: {serum_cholesterol.max()}\")"
   ]
  },
  {
   "cell_type": "markdown",
   "metadata": {},
   "source": [
    "**Your answers**: <br>\n",
    "a, 303 <br>\n",
    "b, 9.04 <br>\n",
    "c, male = 206, women = 97 <br>\n",
    "d, 131.00 <br>\n",
    "e, min: 126.0, max: 564.0 <br>"
   ]
  },
  {
   "cell_type": "markdown",
   "metadata": {
    "tags": []
   },
   "source": [
    "## Problem 2\n",
    "\n",
    "Draw a histogram, boxplot and violinplot of the resting blood pressure values. Use the following array for the bins settings in the histogram `np.arange(80, 220, 10)`. Decorate the graphs, e.g. add labels, title, grid lines, etc.\n",
    "\n",
    "Based on the graphs only (e.g. do not calculate anything!) estimate the statistics for the resting blood pressure values.\n",
    "\n",
    "a) What was the median? <br>\n",
    "b) What where the minimum and maximum? <br>\n",
    "c) What was the interquartile range? <br>\n",
    "d) What was the mode of the categories used in the histogram? <br>\n",
    "e) Lastly, discuss how easy or difficult it was to estimate these statistics based on the graphics only. <br>"
   ]
  },
  {
   "cell_type": "code",
   "execution_count": 4,
   "metadata": {},
   "outputs": [
    {
     "data": {
      "image/png": "[encoded data removed]",
      "text/plain": [
       "<Figure size 432x288 with 1 Axes>"
      ]
     },
     "metadata": {
      "needs_background": "light"
     },
     "output_type": "display_data"
    },
    {
     "data": {
      "image/png": "[encoded data removed]",
      "text/plain": [
       "<Figure size 432x288 with 1 Axes>"
      ]
     },
     "metadata": {
      "needs_background": "light"
     },
     "output_type": "display_data"
    },
    {
     "data": {
      "image/png": "[encoded data removed]",
      "text/plain": [
       "<Figure size 432x288 with 1 Axes>"
      ]
     },
     "metadata": {
      "needs_background": "light"
     },
     "output_type": "display_data"
    }
   ],
   "source": [
    "resting_blood_pressure = data['resting_blood_pressure']\n",
    "\n",
    "resting_blood_pressure.hist(bins = np.arange(80, 220, 10))\n",
    "plt.xlabel('Value of resting blood pressure')\n",
    "plt.ylabel('Count')\n",
    "plt.xlim(80, 220)\n",
    "plt.title('Histogram of resting blood pressure values')\n",
    "plt.show()\n",
    "\n",
    "plt.boxplot(resting_blood_pressure.to_frame(),vert = False)\n",
    "plt.title('Boxplot of resting blood pressure values')\n",
    "plt.ylabel('')\n",
    "plt.xlabel('Value of resting blood pressure')\n",
    "plt.xlim(80, 220)\n",
    "plt.grid()\n",
    "plt.show()\n",
    "\n",
    "plt.violinplot(resting_blood_pressure)\n",
    "plt.title('Violin-plot of resting blood pressure values')\n",
    "plt.ylabel('Value of resting blood pressure')\n",
    "plt.grid()\n",
    "plt.show()"
   ]
  },
  {
   "cell_type": "markdown",
   "metadata": {},
   "source": [
    "a) 130 <br>\n",
    "b) Min: 90, max: 213 <br>\n",
    "c) |-20| = 120 - 140 <br>\n",
    "d) 120 <br>\n",
    "e) All values were easy to read. In terms of min and max value, it is easy to define the estimation, but not the precise value in case. <br>"
   ]
  },
  {
   "cell_type": "markdown",
   "metadata": {},
   "source": [
    "## Problem 3\n",
    "Compare the *serum cholesterol* to the *resting blood pressure*.\n",
    "\n",
    "By coding:\n",
    "- Create a scatter-plot where *resting blood pressure* is in the x-axis and *serum cholesterol* in y-axis.\n",
    "- Count what proportion of the data have *serum cholesterol* higher than 350 mg/ml.\n",
    "- Count what proportion of the data have *resting blood pressure* higher than 190 mmHg.\n",
    "\n",
    "Explain:\n",
    "- By studying the graph and calculations evaluate if there are any outliers. Explain in your own words which values could be the outliers and why."
   ]
  },
  {
   "cell_type": "code",
   "execution_count": 5,
   "metadata": {},
   "outputs": [
    {
     "data": {
      "image/png": "[encoded data removed]",
      "text/plain": [
       "<Figure size 432x288 with 1 Axes>"
      ]
     },
     "metadata": {
      "needs_background": "light"
     },
     "output_type": "display_data"
    },
    {
     "name": "stdout",
     "output_type": "stream",
     "text": [
      "\n",
      "Proportion of serum cholesterol higher than 350 mg/ml: 2.64% or 0.03\n",
      "\n",
      "Proportion of resting blood pressure higher than 190 mmHg: 0.66% or 0.01\n"
     ]
    }
   ],
   "source": [
    "serum_cholesterol = data['serum_cholesterol']\n",
    "\n",
    "plt.scatter(resting_blood_pressure, serum_cholesterol)\n",
    "plt.xlabel('Resting blood pressure')\n",
    "plt.ylabel('Serum cholesterol')\n",
    "plt.title('Scatter plot of resting blood pressure and serum cholesterol')\n",
    "\n",
    "plt.grid()\n",
    "plt.show()\n",
    "\n",
    "# serum cholesterol > 350 mg/ml\n",
    "sc_350 = (serum_cholesterol > 350).sum()\n",
    "sc_350_proportion = sc_350 / serum_cholesterol.count() * 100\n",
    "print(f\"\\nProportion of serum cholesterol higher than 350 mg/ml: {sc_350_proportion:.2f}% or {(sc_350_proportion/100):.2f}\\n\")\n",
    "\n",
    "# resting blood pressure > 190 mmHG\n",
    "rbp_190 = (resting_blood_pressure > 190).sum()\n",
    "rbp_190_proportion = rbp_190 / resting_blood_pressure.count() * 100\n",
    "print(f\"Proportion of resting blood pressure higher than 190 mmHg: {rbp_190_proportion:.2f}% or {(rbp_190_proportion/100):.2f}\")"
   ]
  },
  {
   "cell_type": "markdown",
   "metadata": {},
   "source": [
    "**Your answer**: <br>\n",
    "<br>\n",
    "Outliers: (115,560) (192, 282) (200, 288) <br>\n",
    "Why? Because they are out of the group. \n",
    "\n",
    "\n"
   ]
  },
  {
   "cell_type": "code",
   "execution_count": null,
   "metadata": {},
   "outputs": [],
   "source": []
  }
 ],
 "metadata": {
  "kernelspec": {
   "display_name": "Python 3 (ipykernel)",
   "language": "python",
   "name": "python3"
  },
  "language_info": {
   "codemirror_mode": {
    "name": "ipython",
    "version": 3
   },
   "file_extension": ".py",
   "mimetype": "text/x-python",
   "name": "python",
   "nbconvert_exporter": "python",
   "pygments_lexer": "ipython3",
   "version": "3.9.12"
  }
 },
 "nbformat": 4,
 "nbformat_minor": 4
}
