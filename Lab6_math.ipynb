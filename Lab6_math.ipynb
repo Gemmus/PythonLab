{
 "cells": [
  {
   "cell_type": "markdown",
   "id": "ff5b24c5-80d3-4185-a718-86fc3f7e48bd",
   "metadata": {},
   "source": [
    "# Lab 6. Matrices\n",
    "Hardware 1 course - Mathematics<br>\n",
    "Information and Communication Technology<br>\n",
    "Metropolia University of Applied Sciences"
   ]
  },
  {
   "cell_type": "markdown",
   "id": "0f87796b-9bef-4bdb-9843-87acda4b4b78",
   "metadata": {},
   "source": [
    "## Setup\n",
    "\n",
    "Read necessary libraries and functions."
   ]
  },
  {
   "cell_type": "code",
   "execution_count": 1,
   "id": "1d5742e3-5811-49b9-8c95-ebd65a94cba5",
   "metadata": {},
   "outputs": [],
   "source": [
    "import numpy as np\n",
    "import matplotlib.pyplot as plt\n",
    "from numpy import sin, cos, dot\n",
    "from numpy.linalg import det, inv"
   ]
  },
  {
   "cell_type": "markdown",
   "id": "f324626d-e1dd-438f-be4a-c237cae4ca9d",
   "metadata": {},
   "source": [
    "---\n",
    "## Matrix calculations\n",
    "\n",
    "## Problem 1"
   ]
  },
  {
   "cell_type": "markdown",
   "id": "60de03c7-30f4-43cb-86e5-ff3c59c8dbd3",
   "metadata": {},
   "source": [
    "Given the following square matrices<br>\n",
    "$A = \\left( \\begin{matrix} \n",
    "-6 & 12 & 12 & 26 \\\\\n",
    "-16 & -13 & -30 & -20 \\\\\n",
    "2 & -23 & -25 & -20 \\\\\n",
    "-2 & 27 & -21 & -14 \\\\\n",
    "\\end{matrix} \\right)$\n",
    "and\n",
    "$B = \\left( \\begin{matrix} \n",
    "2 & -26 & -14 & 24 \\\\\n",
    "26 & -6 & -15 & -14 \\\\\n",
    "27 & 18 & 22 & 28 \\\\\n",
    "6 & -24 & -30 & 24 \\\\\n",
    "\\end{matrix} \\right)$\n",
    "\n",
    "Calculate and display the values<br>\n",
    "(a) $C = A + B$<br>\n",
    "(b) $D = 2A - 3B$<br>\n",
    "(c) $E = AB$<br>\n",
    "(d) $F = AB^{-1}$<br>\n",
    "\n"
   ]
  },
  {
   "cell_type": "markdown",
   "id": "1adc5b9e-5012-4018-b270-758f9576d6e6",
   "metadata": {},
   "source": [
    "### Solutions"
   ]
  },
  {
   "cell_type": "code",
   "execution_count": 2,
   "id": "b0e6f6dd-7274-46ef-adb3-7f620157d33e",
   "metadata": {},
   "outputs": [
    {
     "name": "stdout",
     "output_type": "stream",
     "text": [
      "A =\n",
      " [[ -6  12  12  26]\n",
      " [-16 -13 -30 -20]\n",
      " [  2 -23 -25 -20]\n",
      " [ -2  27 -21 -14]]\n",
      "B =\n",
      " [[  2 -26 -14  24]\n",
      " [ 26  -6 -15 -14]\n",
      " [ 27  18  22  28]\n",
      " [  6 -24 -30  24]]\n",
      "A.shape = (4, 4)\n",
      "B.shape = (4, 4)\n"
     ]
    }
   ],
   "source": [
    "# (matrices)\n",
    "A = np.array([[-6, 12, 12, 26], [-16, -13, -30, -20], [2, -23, -25, -20], [-2, 27, -21, -14]])\n",
    "B= np.array([[2, -26, -14, 24], [26, -6, -15, -14], [27, 18, 22, 28], [6, -24, -30, 24]])\n",
    "\n",
    "print('A =\\n', A)\n",
    "print('B =\\n', B)\n",
    "\n",
    "print('A.shape =', A.shape)\n",
    "print('B.shape =', B.shape)"
   ]
  },
  {
   "cell_type": "code",
   "execution_count": 3,
   "id": "68f20976-d9d1-4887-b6f7-4d006c82ed83",
   "metadata": {},
   "outputs": [
    {
     "name": "stdout",
     "output_type": "stream",
     "text": [
      "C = \n",
      " [[ -4 -14  -2  50]\n",
      " [ 10 -19 -45 -34]\n",
      " [ 29  -5  -3   8]\n",
      " [  4   3 -51  10]]\n"
     ]
    }
   ],
   "source": [
    "# (a)\n",
    "C = A + B\n",
    "print('C = \\n', C)"
   ]
  },
  {
   "cell_type": "code",
   "execution_count": 4,
   "id": "c5f3ae91-00de-4b9c-bdac-6bc4ca5c3c3d",
   "metadata": {},
   "outputs": [
    {
     "name": "stdout",
     "output_type": "stream",
     "text": [
      "D = \n",
      " [[ -18  102   66  -20]\n",
      " [-110   -8  -15    2]\n",
      " [ -77 -100 -116 -124]\n",
      " [ -22  126   48 -100]]\n"
     ]
    }
   ],
   "source": [
    "# (b)\n",
    "D = 2 * A - 3 * B\n",
    "print('D = \\n', D)"
   ]
  },
  {
   "cell_type": "code",
   "execution_count": 5,
   "id": "cd0d0027-e7c3-48cd-ac05-84a06bdff7dc",
   "metadata": {},
   "outputs": [
    {
     "name": "stdout",
     "output_type": "stream",
     "text": [
      "E = \n",
      " [[  780  -324  -612   648]\n",
      " [-1300   434   359 -1522]\n",
      " [-1389   116   367  -810]\n",
      " [   47  -152  -419 -1350]]\n"
     ]
    }
   ],
   "source": [
    "# (c)\n",
    "E = np.dot(A, B)\n",
    "print('E = \\n', E)"
   ]
  },
  {
   "cell_type": "code",
   "execution_count": 6,
   "id": "76981cce-9516-4b77-a1d3-c426135c16a6",
   "metadata": {},
   "outputs": [
    {
     "name": "stdout",
     "output_type": "stream",
     "text": [
      "F = \n",
      " [[-0.47354489 -0.79862861  0.45826822  0.55636528]\n",
      " [-0.75268697  0.02596077 -0.73882953  0.79646521]\n",
      " [ 0.47486844  0.71165683 -0.60472014 -0.18756179]\n",
      " [-3.10704832 -0.36335513 -0.01046085  2.32396215]]\n"
     ]
    }
   ],
   "source": [
    "# (d)\n",
    "Binv = np.linalg.inv(B)\n",
    "F = np.dot(A, Binv)\n",
    "print('F = \\n', F)"
   ]
  },
  {
   "cell_type": "markdown",
   "id": "c1872d9e-a3d0-469b-a4f6-f114ff8399bb",
   "metadata": {},
   "source": [
    "---\n",
    "## Problem 2"
   ]
  },
  {
   "cell_type": "markdown",
   "id": "9a58d1ae-63a3-4eb7-ae53-0de342ffbe32",
   "metadata": {},
   "source": [
    "First, use paper and pen, solve the linear equations for $x$ and $y$\n",
    "\n",
    "\\begin{align*} \n",
    "a_1 x + a_2y &=  b_1 \\\\ \n",
    "a_3 x + a_4 y &= b_2\n",
    "\\end{align*}\n",
    "\n",
    "Then write a code that solves the following equations\n",
    "\n",
    "\\begin{align*} \n",
    "2x - 5y &=  8 \\\\ \n",
    "3x + 9y &=  -12\n",
    "\\end{align*}\n"
   ]
  },
  {
   "cell_type": "markdown",
   "id": "1dace412-7d48-4f69-9a07-0f62e896d5dd",
   "metadata": {},
   "source": [
    "### Solution"
   ]
  },
  {
   "cell_type": "code",
   "execution_count": 7,
   "id": "5775df1e-b457-4ce4-a000-c89266534ee5",
   "metadata": {},
   "outputs": [
    {
     "name": "stdout",
     "output_type": "stream",
     "text": [
      "x = 0.3636363636363633\n",
      "y = -1.4545454545454546\n"
     ]
    }
   ],
   "source": [
    "a1 = 2\n",
    "a2 = -5\n",
    "a3 = 3\n",
    "a4 = 9\n",
    "b1 = 8\n",
    "b2 = -12\n",
    "y = (a3*b1-a1*b2)/(a3*a2-a1*a4)\n",
    "x = (b1-a2*y)/a1\n",
    "print(f'x = {x}')\n",
    "print(f'y = {y}')"
   ]
  },
  {
   "cell_type": "code",
   "execution_count": 8,
   "id": "634f4446-d22f-4b63-9922-960f65532eb0",
   "metadata": {},
   "outputs": [
    {
     "name": "stdout",
     "output_type": "stream",
     "text": [
      "X = [ 0.36363636 -1.45454545]\n"
     ]
    }
   ],
   "source": [
    "A = np.array([[2, -5], [3, 9]])\n",
    "B = np.array([8, -12])\n",
    "X = np.linalg.solve(A, B)\n",
    "\n",
    "print('X =', X)"
   ]
  },
  {
   "cell_type": "markdown",
   "id": "a2e49635-571a-4309-b0fc-4829ee6994d3",
   "metadata": {},
   "source": [
    "---\n",
    "## Problem 3\n",
    "Solve the following equations using `numpy` matrix operations\n",
    "\\begin{align*}\n",
    "2x + y + 3z = −1 \\\\\n",
    "x − y − 2z = 5 \\\\\n",
    "2x + y − 3z = 2\n",
    "\\end{align*}"
   ]
  },
  {
   "cell_type": "markdown",
   "id": "bfaf29b8-6f09-4d01-acee-81ca73f122ec",
   "metadata": {},
   "source": [
    "### Solution"
   ]
  },
  {
   "cell_type": "code",
   "execution_count": 9,
   "id": "639f1242-1f89-4ed1-8e3b-cb91f2795ffc",
   "metadata": {},
   "outputs": [
    {
     "name": "stdout",
     "output_type": "stream",
     "text": [
      "X = [ 1.5 -2.5 -0.5]\n"
     ]
    }
   ],
   "source": [
    "A = np.array([[2, 1, 3], [1, -1, -2], [2, 1, -3]])\n",
    "B = np.array([-1, 5, 2])\n",
    "X = np.linalg.solve(A, B)\n",
    "\n",
    "print('X =', X)"
   ]
  },
  {
   "cell_type": "markdown",
   "id": "492a9dad-5aa7-4d7a-b0f5-93c27d9f25dd",
   "metadata": {},
   "source": [
    "---\n",
    "## Problem 4\n",
    "Using numpy, determine if the following system have nontrivial solution\n",
    "\\begin{align*}\n",
    "2x − 3y − 2z = 0 \\\\\n",
    "3x + y − 3z = 0 \\\\\n",
    "x − 7y − z = 0 \\\\\n",
    "\\end{align*}"
   ]
  },
  {
   "cell_type": "markdown",
   "id": "56339a48-5070-4819-b156-fa178c66acbb",
   "metadata": {},
   "source": [
    "### Solution"
   ]
  },
  {
   "cell_type": "code",
   "execution_count": 10,
   "id": "6b992f33-e6e3-4ca6-a538-18b43fa0484c",
   "metadata": {},
   "outputs": [
    {
     "name": "stdout",
     "output_type": "stream",
     "text": [
      "A = \n",
      " [[ 2 -3 -2]\n",
      " [ 3  1 -3]\n",
      " [ 1 -7 -1]]\n",
      "det(A) = 0.0\n",
      "Has non-trivial solution.\n"
     ]
    }
   ],
   "source": [
    "A = np.array([[2, -3, -2], [3, 1, -3], [1, -7, -1]])\n",
    "detA = np.linalg.det(A)\n",
    "\n",
    "print('A = \\n', A)\n",
    "print('det(A) =', detA)\n",
    "print('Has non-trivial solution.')"
   ]
  },
  {
   "cell_type": "markdown",
   "id": "fe28dad0-6dd6-4652-98d7-c62dc793821f",
   "metadata": {},
   "source": [
    "---\n",
    "## Problem 5\n",
    "Solve the following equations using numpy linear algebra operations\n",
    "\\begin{matrix} \n",
    "6x_1 + 6x_2 + 2x_3 + 3x_4 + 3x_5 = 7 \\\\\n",
    "3x_1 + 8x_2 + 8x_3 + 6x_4 + 8x_5 = 4 \\\\\n",
    "2x_1 + 3x_2 + 7x_3 + 6x_4 + 8x_5 = 1 \\\\\n",
    "3x_1 + 8x_2 + 7x_3 + 2x_4 + 2x_5 = 2 \\\\\n",
    "x_1 + 2x_2 + 8x_3 + 8x_4 + 8x_5 = 2\n",
    "\\end{matrix}"
   ]
  },
  {
   "cell_type": "markdown",
   "id": "f87f1519-94cf-459a-a72b-1aacce6fec97",
   "metadata": {},
   "source": [
    "### Solution"
   ]
  },
  {
   "cell_type": "code",
   "execution_count": 11,
   "id": "ff41220d-5da6-46bf-b963-69386158f120",
   "metadata": {},
   "outputs": [
    {
     "name": "stdout",
     "output_type": "stream",
     "text": [
      "X = [ 0.25302826  0.73889637 -0.94751009  1.46971736 -0.48855989]\n"
     ]
    }
   ],
   "source": [
    "A = np.array([[6, 6, 2, 3, 3], [3, 8, 8, 6, 8], [2, 3, 7, 6, 8], [3, 8, 7, 2, 2], [1, 2, 8, 8, 8]])\n",
    "B = np.array([7, 4, 1, 2, 2])\n",
    "X = np.linalg.solve(A, B)\n",
    "\n",
    "print('X =', X)"
   ]
  },
  {
   "cell_type": "markdown",
   "id": "80f0ffcb-f7e7-4d37-b778-769658e88fa9",
   "metadata": {},
   "source": [
    "---\n",
    "## Problem 6\n",
    "If $a_n = n^2$, find the determinant $det(A)$ of the cyclic matrix\n",
    "$A = \\left( \\begin{matrix} \n",
    "a_1 & a_2 & a_3 & a_4 & a_5 \\\\\n",
    "a_5 & a_1 & a_2 & a_3 & a_4 \\\\\n",
    "a_4 & a_5 & a_1 & a_2 & a_3 \\\\\n",
    "a_3 & a_4 & a_5 & a_1 & a_2 \\\\\n",
    "a_2 & a_3 & a_4 & a_5 & a_1 \\\\\n",
    "\\end{matrix} \\right)$"
   ]
  },
  {
   "cell_type": "markdown",
   "id": "d14cbf45-7dfc-43c0-a0cd-2a406038bd76",
   "metadata": {},
   "source": [
    "### Solution"
   ]
  },
  {
   "cell_type": "code",
   "execution_count": 12,
   "id": "0262bf05-6637-4f94-a5d0-52f15f018333",
   "metadata": {},
   "outputs": [
    {
     "name": "stdout",
     "output_type": "stream",
     "text": [
      "A = \n",
      " [[ 1  4  9 16 25]\n",
      " [25  1  4  9 16]\n",
      " [16 25  1  4  9]\n",
      " [ 9 16 25  1  4]\n",
      " [ 4  9 16 25  1]]\n",
      "det(A) = 9406374.999999983\n"
     ]
    }
   ],
   "source": [
    "a1 = 1**2\n",
    "a2 = 2**2\n",
    "a3 = 3**2\n",
    "a4 = 4**2\n",
    "a5 = 5**2\n",
    "A = np.array([[a1, a2, a3, a4, a5], [a5, a1, a2, a3, a4], [a4, a5, a1, a2, a3], [a3, a4, a5, a1, a2], [a2, a3, a4, a5, a1]])\n",
    "detA = np.linalg.det(A)\n",
    "\n",
    "print('A = \\n', A)\n",
    "print('det(A) =', detA)"
   ]
  },
  {
   "cell_type": "markdown",
   "id": "0d2169b7-eeea-473c-a658-a064d051c6cd",
   "metadata": {},
   "source": [
    "---\n",
    "## Problem 7\n",
    "Find the determinant of the matrix \n",
    "$A = \\left( \\begin{matrix} \n",
    "1 & sin(3t) & sin^3(t) \\\\\n",
    "2cos(t) & sin(6t) & sin^3(2t) \\\\\n",
    "4cos^2(t) - 1 & sin(9t) & sin^3(3t)\n",
    "\\end{matrix} \\right)$, when  \n",
    "\n",
    "(a) $t = 1.0$, <br>\n",
    "(b) $t = 2.03$, and <br>\n",
    "(c) $t = -0.345$. <br>\n",
    "Round the results to 3 decimals."
   ]
  },
  {
   "cell_type": "markdown",
   "id": "22f31558-690c-47e9-aabe-3a03c71fd48b",
   "metadata": {},
   "source": [
    "### Solution"
   ]
  },
  {
   "cell_type": "code",
   "execution_count": 13,
   "id": "f4ec096b-eb29-42f7-a7d8-a817e43c2be8",
   "metadata": {},
   "outputs": [
    {
     "name": "stdout",
     "output_type": "stream",
     "text": [
      "A_rounded = \n",
      " [[ 1.     0.141  0.596]\n",
      " [ 1.081 -0.279  0.752]\n",
      " [ 0.168  0.412  0.003]]\n"
     ]
    }
   ],
   "source": [
    "# (a)\n",
    "t = 1.\n",
    "A = np.array([[1, np.sin(3*t), (np.sin(t))**3], [2*np.cos(t), np.sin(6*t), (np.sin(2*t))**3], [4*((np.cos(t))**2)-1, np.sin(9*t), (np.sin(3*t))**3]])\n",
    "A_rounded = np.round(A, 3)\n",
    "print('A_rounded = \\n', A_rounded)"
   ]
  },
  {
   "cell_type": "code",
   "execution_count": 14,
   "id": "62b9432f-968d-4dee-bcac-d4d28af285c9",
   "metadata": {},
   "outputs": [
    {
     "name": "stdout",
     "output_type": "stream",
     "text": [
      "A_rounded = \n",
      " [[ 1.    -0.192  0.72 ]\n",
      " [-0.886 -0.377 -0.502]\n",
      " [-0.214 -0.548 -0.007]]\n"
     ]
    }
   ],
   "source": [
    "# (b)\n",
    "t = 2.03\n",
    "A = np.array([[1, np.sin(3*t), (np.sin(t))**3], [2*np.cos(t), np.sin(6*t), (np.sin(2*t))**3], [4*((np.cos(t))**2)-1, np.sin(9*t), (np.sin(3*t))**3]])\n",
    "A_rounded = np.round(A, 3)\n",
    "print('A_rounded = \\n', A_rounded)"
   ]
  },
  {
   "cell_type": "code",
   "execution_count": 15,
   "id": "b45980bb-f2d3-4b1a-b5c6-2fc19f45e238",
   "metadata": {},
   "outputs": [
    {
     "name": "stdout",
     "output_type": "stream",
     "text": [
      "A_rounded = \n",
      " [[ 1.    -0.86  -0.039]\n",
      " [ 1.882 -0.878 -0.258]\n",
      " [ 2.542 -0.037 -0.636]]\n"
     ]
    }
   ],
   "source": [
    "# (c)\n",
    "t = -0.345\n",
    "A = np.array([[1, np.sin(3*t), (np.sin(t))**3], [2*np.cos(t), np.sin(6*t), (np.sin(2*t))**3], [4*((np.cos(t))**2)-1, np.sin(9*t), (np.sin(3*t))**3]])\n",
    "A_rounded = np.round(A, 3)\n",
    "print('A_rounded = \\n', A_rounded)"
   ]
  },
  {
   "cell_type": "markdown",
   "id": "ceb97373-1ee9-44a8-b9a3-c75327e4ee27",
   "metadata": {},
   "source": [
    "---\n",
    "## Problem 8\n",
    "If $ A = \\left( \\begin{matrix}\n",
    "a + x & a - x & a - x \\\\\n",
    "a - x & a + x & a - x \\\\\n",
    "a - x & a - x & a + x\n",
    "\\end{matrix} \\right)$ and $a = 1$, find $x > 0$ so that $det(A) = 0$. \n",
    "\n",
    "How $a$ and $x$ are related?\n",
    "\n",
    "Tip: Calculate the $det(A)$ for different values of $x$ and make a graph of $f(x) = det(A)$. Find from the graph, when $f(x) = 0$."
   ]
  },
  {
   "cell_type": "markdown",
   "id": "c3e1b07b-9088-4e59-afd4-437b98241252",
   "metadata": {},
   "source": [
    "### Solution"
   ]
  },
  {
   "cell_type": "code",
   "execution_count": 16,
   "id": "19dedf68-5047-4df2-8f8f-e38ab5aa2e91",
   "metadata": {},
   "outputs": [
    {
     "data": {
      "image/png": "[encoded data removed]",
      "text/plain": [
       "<Figure size 432x288 with 1 Axes>"
      ]
     },
     "metadata": {
      "needs_background": "light"
     },
     "output_type": "display_data"
    },
    {
     "name": "stdout",
     "output_type": "stream",
     "text": [
      "Answer is 3. The a is a constant with the value of 1 and the x is a variable, based on the addition and subtraction pattern of these 2 values, the matrix is a diagonal matrix.\n"
     ]
    }
   ],
   "source": [
    "def A_det(array):\n",
    "    a = 1\n",
    "    det_values = []\n",
    "    for x in array: \n",
    "        A = np.array([[a+x, a-x, a-x], [a-x, a+x, a-x], [a-x, a-x, a+x]])\n",
    "        f = np.linalg.det(A)\n",
    "        det_values.append(f)\n",
    "    return det_values\n",
    "\n",
    "scale = np.linspace(0.01, 5, 100)\n",
    "detA_values = A_det(scale)\n",
    "\n",
    "plt.plot(scale, detA_values)\n",
    "plt.grid(True)\n",
    "plt.xlim(0, 3.5)\n",
    "plt.ylim(-10, 20)\n",
    "plt.xlabel(\"Value of x\")\n",
    "plt.ylabel(\"Value of det(A)\")\n",
    "plt.show()\n",
    "\n",
    "print('Answer is 3. The a is a constant with the value of 1 and the x is a variable, based on the addition and subtraction pattern of these 2 values, the matrix is a diagonal matrix.')"
   ]
  },
  {
   "cell_type": "markdown",
   "id": "d21cdfd9-e0ce-42da-b351-dcf4eacaba4d",
   "metadata": {},
   "source": [
    "---\n",
    "## Problem 9\n",
    "if $A = \\left( \\begin{matrix}\n",
    "0 & 1 & 2 \\\\\n",
    "1 & 2 & 3 \\\\\n",
    "3 & a & 1 \\end{matrix} \\right)$ and \n",
    "$A^{-1} = \\left( \\begin{matrix}\n",
    "0.5 & -0.5 & 0.5 \\\\\n",
    "-4 & 3 & c \\\\\n",
    "2.5 & -1.5 & 0.5 \\end{matrix} \\right)$\n",
    "\n",
    "For which of the values of  $a \\in \\left( -3,-2,-1,0,1,2,3 \\right)$ this is true? What is the value of $c$ then?"
   ]
  },
  {
   "cell_type": "markdown",
   "id": "ca1feb4a-f696-46c4-99b9-6bf73195634e",
   "metadata": {},
   "source": [
    "### Solution"
   ]
  },
  {
   "cell_type": "code",
   "execution_count": 17,
   "id": "0152b1eb-060b-4aae-95fc-b68e73815f35",
   "metadata": {},
   "outputs": [
    {
     "name": "stdout",
     "output_type": "stream",
     "text": [
      "Ainv = \n",
      " [[-1.1  0.7  0.1]\n",
      " [-0.8  0.6 -0.2]\n",
      " [ 0.9 -0.3  0.1]]\n",
      "Not true\n"
     ]
    }
   ],
   "source": [
    "# a = -3\n",
    "a = -3 \n",
    "A = np.array([[0, 1, 2], [1, 2, 3], [3, a, 1]])\n",
    "Ainv = np.linalg.inv(A)\n",
    "\n",
    "print('Ainv = \\n', Ainv)\n",
    "print('Not true')"
   ]
  },
  {
   "cell_type": "code",
   "execution_count": 18,
   "id": "415a83ff-e58d-4a7d-94b6-0e3aa2ec21bd",
   "metadata": {},
   "outputs": [
    {
     "name": "stdout",
     "output_type": "stream",
     "text": [
      "Ainv = \n",
      " [[-1.     0.625  0.125]\n",
      " [-1.     0.75  -0.25 ]\n",
      " [ 1.    -0.375  0.125]]\n",
      "Not true\n"
     ]
    }
   ],
   "source": [
    "# a = -2\n",
    "a = -2 \n",
    "A = np.array([[0, 1, 2], [1, 2, 3], [3, a, 1]])\n",
    "Ainv = np.linalg.inv(A)\n",
    "\n",
    "print('Ainv = \\n', Ainv)\n",
    "print('Not true')"
   ]
  },
  {
   "cell_type": "code",
   "execution_count": 19,
   "id": "e2665643-7c2c-49af-9183-4e18276534fe",
   "metadata": {},
   "outputs": [
    {
     "name": "stdout",
     "output_type": "stream",
     "text": [
      "Ainv = \n",
      " [[-0.83333333  0.5         0.16666667]\n",
      " [-1.33333333  1.         -0.33333333]\n",
      " [ 1.16666667 -0.5         0.16666667]]\n",
      "Not true\n"
     ]
    }
   ],
   "source": [
    "# a = -1\n",
    "a = -1 \n",
    "A = np.array([[0, 1, 2], [1, 2, 3], [3, a, 1]])\n",
    "Ainv = np.linalg.inv(A)\n",
    "\n",
    "print('Ainv = \\n', Ainv)\n",
    "print('Not true')"
   ]
  },
  {
   "cell_type": "code",
   "execution_count": 20,
   "id": "99bbcc49-6858-4158-876b-d502341a00ae",
   "metadata": {},
   "outputs": [
    {
     "name": "stdout",
     "output_type": "stream",
     "text": [
      "Ainv = \n",
      " [[-0.5   0.25  0.25]\n",
      " [-2.    1.5  -0.5 ]\n",
      " [ 1.5  -0.75  0.25]]\n",
      "Not true\n"
     ]
    }
   ],
   "source": [
    "# a = 0\n",
    "a = 0\n",
    "A = np.array([[0, 1, 2], [1, 2, 3], [3, a, 1]])\n",
    "Ainv = np.linalg.inv(A)\n",
    "\n",
    "print('Ainv = \\n', Ainv)\n",
    "print('Not true')"
   ]
  },
  {
   "cell_type": "code",
   "execution_count": 21,
   "id": "802d190a-2d81-47e9-931d-acc7b0df97c4",
   "metadata": {},
   "outputs": [
    {
     "name": "stdout",
     "output_type": "stream",
     "text": [
      "Ainv = \n",
      " [[ 0.5 -0.5  0.5]\n",
      " [-4.   3.  -1. ]\n",
      " [ 2.5 -1.5  0.5]]\n",
      "True, value of c = -1\n"
     ]
    }
   ],
   "source": [
    "# a = 1\n",
    "a = 1\n",
    "A = np.array([[0, 1, 2], [1, 2, 3], [3, a, 1]])\n",
    "Ainv = np.linalg.inv(A)\n",
    "\n",
    "print('Ainv = \\n', Ainv)\n",
    "print('True, value of c = -1')"
   ]
  },
  {
   "cell_type": "code",
   "execution_count": 22,
   "id": "45687370-3fc0-46ed-ba92-d8b28878c65e",
   "metadata": {},
   "outputs": [
    {
     "name": "stdout",
     "output_type": "stream",
     "text": [
      "Ainv = \n",
      " [[ 2.25179981e+15 -1.68884986e+15  5.62949953e+14]\n",
      " [-4.50359963e+15  3.37769972e+15 -1.12589991e+15]\n",
      " [ 2.25179981e+15 -1.68884986e+15  5.62949953e+14]]\n",
      "Not true\n"
     ]
    }
   ],
   "source": [
    "# a = 2\n",
    "a = 2\n",
    "A = np.array([[0, 1, 2], [1, 2, 3], [3, a, 1]])\n",
    "Ainv = np.linalg.inv(A)\n",
    "\n",
    "print('Ainv = \\n', Ainv)\n",
    "print('Not true')"
   ]
  },
  {
   "cell_type": "code",
   "execution_count": 23,
   "id": "61e057fd-c49b-4cde-95e9-2e3712ed0d3e",
   "metadata": {},
   "outputs": [
    {
     "name": "stdout",
     "output_type": "stream",
     "text": [
      "Ainv = \n",
      " [[-3.5  2.5 -0.5]\n",
      " [ 4.  -3.   1. ]\n",
      " [-1.5  1.5 -0.5]]\n",
      "Not true\n"
     ]
    }
   ],
   "source": [
    "# a = 3\n",
    "a = 3\n",
    "A = np.array([[0, 1, 2], [1, 2, 3], [3, a, 1]])\n",
    "Ainv = np.linalg.inv(A)\n",
    "\n",
    "print('Ainv = \\n', Ainv)\n",
    "print('Not true')"
   ]
  },
  {
   "cell_type": "markdown",
   "id": "d1b16600-20ea-405d-896a-d9c88393aae7",
   "metadata": {},
   "source": [
    "---\n",
    "## Linear transformations\n",
    "\n",
    "Below is given a code that generates 200 data points. The first row `p[0, :]` contains the x-values and the second row `p[1, :]` the y-values. The third row `p[2, :]` has values of 1.\n",
    "\n",
    "In the second cell is a function that draws the data points as graphics. \n",
    "\n",
    "Your task is to use linear transformations to *rotate*, *move* and *scale* the datapoints using matrix operations."
   ]
  },
  {
   "cell_type": "markdown",
   "id": "3762fd11-26ac-4330-8666-6871606b5388",
   "metadata": {},
   "source": [
    "### Data-points"
   ]
  },
  {
   "cell_type": "code",
   "execution_count": 24,
   "id": "26a2637b-d3e1-4557-a3ae-d14104972141",
   "metadata": {},
   "outputs": [],
   "source": [
    "t = np.linspace(0, 2*np.pi)\n",
    "x1 = np.cos(t) + 1.0\n",
    "y1 = np.sin(t) + 1.0\n",
    "x2 = np.cos(t)/10 + 0.6\n",
    "y2 = np.sin(t)/10 + 1.5\n",
    "x3 = np.cos(t)/10 + 1.4\n",
    "y3 = np.sin(t)/10 + 1.5\n",
    "x4 = np.cos(t/2)/2 + 1.0\n",
    "y4 = -np.sin(t/2)/2 + 1.0\n",
    "p = np.zeros((3, 200))\n",
    "p[0, :] = np.hstack((x1, x2, x3, x4))\n",
    "p[1, :] = np.hstack((y1, y2, y3, y4))\n",
    "p[2, :] = np.ones((1, 200))"
   ]
  },
  {
   "cell_type": "markdown",
   "id": "dd4e3cf0-2699-44cf-b953-53ed08dea4ba",
   "metadata": {},
   "source": [
    "### Drawing function"
   ]
  },
  {
   "cell_type": "code",
   "execution_count": 25,
   "id": "936ba1b6-a8b4-45c6-99da-129bcc040e56",
   "metadata": {},
   "outputs": [],
   "source": [
    "def draw(p):\n",
    "    plt.figure(figsize = (7, 7))\n",
    "    plt.plot(p[0, :50], p[1, :50])\n",
    "    plt.fill(p[0, 50:100], p[1, 50:100])\n",
    "    plt.fill(p[0, 100:150], p[1, 100:150])\n",
    "    plt.fill(p[0, 150:200], p[1, 150:200])\n",
    "    plt.axhline(0, color = 'red')\n",
    "    plt.axvline(0, color = 'red')\n",
    "    plt.xlim(-5, 5)\n",
    "    plt.ylim(-5, 5)\n",
    "    plt.grid()\n",
    "    plt.show()"
   ]
  },
  {
   "cell_type": "markdown",
   "id": "c4bde44a-a960-4a29-a535-a29cade148d1",
   "metadata": {},
   "source": [
    "### Original graphics"
   ]
  },
  {
   "cell_type": "code",
   "execution_count": 26,
   "id": "eeb98c4f-e5c7-4b25-afe4-d8714ca30fad",
   "metadata": {},
   "outputs": [
    {
     "data": {
      "image/png": "[encoded data removed]",
      "text/plain": [
       "<Figure size 504x504 with 1 Axes>"
      ]
     },
     "metadata": {
      "needs_background": "light"
     },
     "output_type": "display_data"
    }
   ],
   "source": [
    "draw(p)\n",
    "plt.show()"
   ]
  },
  {
   "cell_type": "markdown",
   "id": "f35bd02b-26c0-436b-ab88-6b4306a10ae1",
   "metadata": {},
   "source": [
    "---\n",
    "## Problem 10 (a)\n",
    "\n",
    "Rotate the graphics by +30 degrees (counterclockwise)."
   ]
  },
  {
   "cell_type": "markdown",
   "id": "8a5b1e9e-0b12-44aa-98e7-13a1991bba11",
   "metadata": {},
   "source": [
    "### Solution (a)"
   ]
  },
  {
   "cell_type": "code",
   "execution_count": 27,
   "id": "d1289ddc-d72f-4cc9-8070-635d9e24446b",
   "metadata": {},
   "outputs": [
    {
     "data": {
      "image/png": "[encoded data removed]",
      "text/plain": [
       "<Figure size 504x504 with 1 Axes>"
      ]
     },
     "metadata": {
      "needs_background": "light"
     },
     "output_type": "display_data"
    }
   ],
   "source": [
    "theta = np.deg2rad(30)\n",
    "A = np.array([[np.cos(theta), -np.sin(theta), 0],\n",
    "              [np.sin(theta), np.cos(theta), 0], \n",
    "              [0, 0, 1]])\n",
    "\n",
    "p30 = np.dot(A, p)\n",
    "p30_rounded = np.round(p30, 3)\n",
    "    \n",
    "draw(p30_rounded)"
   ]
  },
  {
   "cell_type": "code",
   "execution_count": 5,
   "id": "a86ff88d-2def-437c-a951-45eddb4f4f1a",
   "metadata": {},
   "outputs": [
    {
     "data": {
      "image/png": "[encoded data removed]",
      "text/plain": [
       "<Figure size 504x504 with 1 Axes>"
      ]
     },
     "metadata": {
      "needs_background": "light"
     },
     "output_type": "display_data"
    }
   ],
   "source": [
    "# Results should look like this"
   ]
  },
  {
   "cell_type": "markdown",
   "id": "b32357ea-20d8-4299-a43b-beca87523606",
   "metadata": {},
   "source": [
    "---\n",
    "## Problem 10 (b)\n",
    "Rotate the figure by +30 degrees followed by a reflection across the vertical axis."
   ]
  },
  {
   "cell_type": "markdown",
   "id": "8c524c32-96b9-40e8-a342-fd4474e187e5",
   "metadata": {},
   "source": [
    "### Solution (b)"
   ]
  },
  {
   "cell_type": "code",
   "execution_count": 28,
   "id": "b085eac0-0acb-4c5c-92f2-f299a33d8932",
   "metadata": {},
   "outputs": [
    {
     "data": {
      "image/png": "[encoded data removed]",
      "text/plain": [
       "<Figure size 504x504 with 1 Axes>"
      ]
     },
     "metadata": {
      "needs_background": "light"
     },
     "output_type": "display_data"
    }
   ],
   "source": [
    "T = np.array([[-1, 0, 0], [0, 1, 0], [0, 0, 1]])\n",
    "p2 = np.dot(T, p)\n",
    "    \n",
    "theta = np.deg2rad(-30)\n",
    "A = np.array([[np.cos(theta), -np.sin(theta), 0],\n",
    "              [np.sin(theta), np.cos(theta), 0], \n",
    "              [0, 0, 1]])\n",
    "\n",
    "p30 = np.dot(A, p2)\n",
    "p30_rounded = np.round(p30, 3)\n",
    "    \n",
    "draw(p30_rounded)"
   ]
  },
  {
   "cell_type": "code",
   "execution_count": 6,
   "id": "6f54491b-82a3-4a0d-bee4-7430eb6ba2ca",
   "metadata": {},
   "outputs": [
    {
     "data": {
      "image/png": "[encoded data removed]",
      "text/plain": [
       "<Figure size 504x504 with 1 Axes>"
      ]
     },
     "metadata": {
      "needs_background": "light"
     },
     "output_type": "display_data"
    }
   ],
   "source": [
    "# Results should look like this"
   ]
  },
  {
   "cell_type": "markdown",
   "id": "5bf0e9a8-5bb0-4b20-9761-4e4da9998af7",
   "metadata": {},
   "source": []
  },
  {
   "cell_type": "markdown",
   "id": "77001844-d912-4a02-bf99-cb3f058db928",
   "metadata": {},
   "source": [
    "---\n",
    "## Problem 10 (c)\n",
    "\n",
    "Reflect the figure across the vertical axis followed by a rotation by -60 degrees."
   ]
  },
  {
   "cell_type": "markdown",
   "id": "b985a368-a3af-4472-8478-efff7af68db9",
   "metadata": {},
   "source": [
    "### Solution (c)"
   ]
  },
  {
   "cell_type": "code",
   "execution_count": 29,
   "id": "d57c4f94-2267-4fee-acde-d7f088a6edd2",
   "metadata": {},
   "outputs": [
    {
     "data": {
      "image/png": "[encoded data removed]",
      "text/plain": [
       "<Figure size 504x504 with 1 Axes>"
      ]
     },
     "metadata": {
      "needs_background": "light"
     },
     "output_type": "display_data"
    }
   ],
   "source": [
    "T = np.array([[-1, 0, 0], [0, 1, 0], [0, 0, 1]])\n",
    "p2 = np.dot(T, p)\n",
    "    \n",
    "theta = np.deg2rad(-60)\n",
    "A = np.array([[np.cos(theta), -np.sin(theta), 0],\n",
    "              [np.sin(theta), np.cos(theta), 0], \n",
    "              [0, 0, 1]])\n",
    "\n",
    "p60 = np.dot(A, p2)\n",
    "p60_rounded = np.round(p60, 3)\n",
    "    \n",
    "draw(p60_rounded)"
   ]
  },
  {
   "cell_type": "code",
   "execution_count": 7,
   "id": "061b8c26-99b0-4097-b6a5-3e24a3684449",
   "metadata": {},
   "outputs": [
    {
     "data": {
      "image/png": "[encoded data removed]",
      "text/plain": [
       "<Figure size 504x504 with 1 Axes>"
      ]
     },
     "metadata": {
      "needs_background": "light"
     },
     "output_type": "display_data"
    }
   ],
   "source": [
    "# Results should look like this"
   ]
  },
  {
   "cell_type": "markdown",
   "id": "eab10cf6-f4c4-41cc-9476-4f4ce42f342a",
   "metadata": {},
   "source": [
    "---\n",
    "## Problem 10 (d)\n",
    "Move the figure 3 units to the left and 1 unit upwards, followed by enlarging it by 2x both in x and y directions."
   ]
  },
  {
   "cell_type": "markdown",
   "id": "d5dda95f-88d6-40d9-97fb-89f1232f0902",
   "metadata": {},
   "source": [
    "### Solution (d)"
   ]
  },
  {
   "cell_type": "code",
   "execution_count": 30,
   "id": "c333d0c0-eb15-4688-8256-6afc8ee61d30",
   "metadata": {},
   "outputs": [
    {
     "data": {
      "image/png": "[encoded data removed]",
      "text/plain": [
       "<Figure size 504x504 with 1 Axes>"
      ]
     },
     "metadata": {
      "needs_background": "light"
     },
     "output_type": "display_data"
    }
   ],
   "source": [
    "T = np.array([[2, 0, -6], [0, 2, 2], [0, 0, 1]])\n",
    "p2 = np.dot(T, p)\n",
    "    \n",
    "p2_rounded = np.round(p2, 3)\n",
    "    \n",
    "draw(p2_rounded)"
   ]
  },
  {
   "cell_type": "code",
   "execution_count": 8,
   "id": "4d4beef3-b139-45af-b6fc-fadc568b24da",
   "metadata": {},
   "outputs": [
    {
     "data": {
      "image/png": "[encoded data removed]",
      "text/plain": [
       "<Figure size 504x504 with 1 Axes>"
      ]
     },
     "metadata": {
      "needs_background": "light"
     },
     "output_type": "display_data"
    }
   ],
   "source": [
    "# Results should look like this"
   ]
  },
  {
   "cell_type": "markdown",
   "id": "5fc08bf8-d5b6-41ae-be22-9b5a0f070f94",
   "metadata": {},
   "source": [
    "## Problem 10 (e)\n",
    "\n",
    "Find the code which transforms the original graphics to look like as shown below."
   ]
  },
  {
   "cell_type": "code",
   "execution_count": 22,
   "id": "ddb1e0d3-53a4-4281-a7b1-43d003f1f3e0",
   "metadata": {},
   "outputs": [
    {
     "data": {
      "image/png": "[encoded data removed]",
      "text/plain": [
       "<Figure size 504x504 with 1 Axes>"
      ]
     },
     "metadata": {
      "needs_background": "light"
     },
     "output_type": "display_data"
    }
   ],
   "source": [
    "# The final results should look like this"
   ]
  },
  {
   "cell_type": "markdown",
   "id": "7429db90-0b20-4d32-a2d4-6c16789abd8a",
   "metadata": {},
   "source": [
    "### Solution (e)"
   ]
  },
  {
   "cell_type": "code",
   "execution_count": 31,
   "id": "93f0c694-adcf-4211-bbca-3131c7840e62",
   "metadata": {},
   "outputs": [
    {
     "data": {
      "image/png": "[encoded data removed]",
      "text/plain": [
       "<Figure size 504x504 with 1 Axes>"
      ]
     },
     "metadata": {
      "needs_background": "light"
     },
     "output_type": "display_data"
    }
   ],
   "source": [
    "T = np.array([[-2, 0, 2.005], [0, 2, 0.83], [0, 0, 0]])\n",
    "p2 = np.dot(T, p)\n",
    "\n",
    "theta = np.deg2rad(135)\n",
    "A = np.array([[np.cos(theta), -np.sin(theta), 0],\n",
    "              [np.sin(theta), np.cos(theta), 0], \n",
    "              [0, 0, 1]])\n",
    "\n",
    "p135 = np.dot(A, p2)\n",
    "p135_rounded = np.round(p135, 3)\n",
    "\n",
    "draw(p135_rounded)"
   ]
  },
  {
   "cell_type": "code",
   "execution_count": null,
   "id": "47e8484f-8e80-46fb-acff-2e2d2887e288",
   "metadata": {},
   "outputs": [],
   "source": []
  }
 ],
 "metadata": {
  "kernelspec": {
   "display_name": "Python 3 (ipykernel)",
   "language": "python",
   "name": "python3"
  },
  "language_info": {
   "codemirror_mode": {
    "name": "ipython",
    "version": 3
   },
   "file_extension": ".py",
   "mimetype": "text/x-python",
   "name": "python",
   "nbconvert_exporter": "python",
   "pygments_lexer": "ipython3",
   "version": "3.9.12"
  }
 },
 "nbformat": 4,
 "nbformat_minor": 5
}
